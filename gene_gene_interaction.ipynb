{
 "cells": [
  {
   "cell_type": "code",
   "execution_count": null,
   "id": "d2c8e193-e522-4a52-a440-09cca7e2a950",
   "metadata": {},
   "outputs": [],
   "source": [
    "import matplotlib.pyplot as plt\n",
    "import mygene\n",
    "import numpy as np\n",
    "import pandas as pd\n",
    "import pickle\n",
    "import random\n",
    "\n",
    "from pathlib import Path\n",
    "from sklearn.ensemble import RandomForestClassifier\n",
    "from sklearn.linear_model import LogisticRegression\n",
    "from sklearn.metrics import roc_curve, roc_auc_score\n",
    "\n",
    "np.random.seed(1)\n",
    "random.seed(1)"
   ]
  },
  {
   "cell_type": "code",
   "execution_count": 2,
   "id": "6dc6357e-8874-4779-a4b5-6c81b40d06fe",
   "metadata": {},
   "outputs": [],
   "source": [
    "import util\n",
    "import importlib\n",
    "importlib.reload(util)\n",
    "\n",
    "N_genes, N_dims, gpt_embeddings = util.retrieve_gpt_gene_embeddings()\n",
    "random_embeddings = util.generate_random_embeddings(N_genes, N_dims, gpt_embeddings.keys())"
   ]
  },
  {
   "cell_type": "markdown",
   "id": "2971bc92-6bdf-4480-ac23-72d281cdec8d",
   "metadata": {},
   "source": [
    "### Gene-Gene Interactions\n",
    "\n",
    "[Du et. al](https://github.com/yiqunchen/GenePT)"
   ]
  },
  {
   "cell_type": "code",
   "execution_count": 9,
   "id": "f6557cc2-163c-4a34-9fa8-b5eda422c963",
   "metadata": {},
   "outputs": [
    {
     "name": "stdout",
     "output_type": "stream",
     "text": [
      "         gene_1   gene_2  label\n",
      "0         GPNMB     BAP1      1\n",
      "1         GPR34   CARD16      0\n",
      "2          ELF5    TGFB2      1\n",
      "3        LILRB2     NCR2      1\n",
      "4         CRMP1     DLX5      1\n",
      "...         ...      ...    ...\n",
      "263011    HOXC5  NEUROG1      1\n",
      "263012   KCNK18    DEFA3      0\n",
      "263013  CSRP2BP  SLC5A11      0\n",
      "263014    SPRY2     ECE2      1\n",
      "263015    CHRM3   DUSP22      1\n",
      "\n",
      "[263016 rows x 3 columns]\n"
     ]
    }
   ],
   "source": [
    "GGI_train_text = pd.read_csv(util.data_dir / \"gene2vec-predictionData/train_text.txt\", sep=\" \", header=None)\n",
    "GGI_train_label = pd.read_csv(util.data_dir / \"gene2vec-predictionData/train_label.txt\", header=None)\n",
    "\n",
    "GGI_train_text.columns = [\"gene_1\",\"gene_2\"]\n",
    "GGI_train_label.columns = [\"label\"]\n",
    "GGI_train_data = pd.concat([GGI_train_text, GGI_train_label], axis=1)\n",
    "print(GGI_train_data)"
   ]
  },
  {
   "cell_type": "code",
   "execution_count": 10,
   "id": "c8b749c9-7dfe-42fa-9730-801af2bc6890",
   "metadata": {},
   "outputs": [
    {
     "name": "stdout",
     "output_type": "stream",
     "text": [
      "        gene_1    gene_2  label\n",
      "0        ALDOB   SIGMAR1      0\n",
      "1        NRBP2     INTS1      0\n",
      "2      SLC29A2      NQO2      0\n",
      "3         GLI1     MAML3      1\n",
      "4        PDSS1   CSNK1G1      0\n",
      "...        ...       ...    ...\n",
      "21443  ADORA2A       PLG      1\n",
      "21444  PCDHB14    SLC1A1      1\n",
      "21445   FBXO32  SERPINB9      0\n",
      "21446     JPH2   OR14A16      0\n",
      "21447      CNP    KCNMB1      1\n",
      "\n",
      "[21448 rows x 3 columns]\n"
     ]
    }
   ],
   "source": [
    "GGI_test_text = pd.read_csv(util.data_dir / \"gene2vec-predictionData/test_text.txt\", sep=\" \", header=None)\n",
    "GGI_test_label = pd.read_csv(util.data_dir / \"gene2vec-predictionData/test_label.txt\", header=None)\n",
    "\n",
    "GGI_test_text.columns = [\"gene_1\",\"gene_2\"]\n",
    "GGI_test_label.columns = [\"label\"]\n",
    "GGI_test_data = pd.concat([GGI_test_text, GGI_test_label], axis=1)\n",
    "print(GGI_test_data)"
   ]
  },
  {
   "cell_type": "code",
   "execution_count": null,
   "id": "428f14fd-2762-4c88-9153-214cc4351e53",
   "metadata": {},
   "outputs": [],
   "source": [
    "def GGI_data_to_embeddings(GGI_data, embeddings, combine_embeddings):\n",
    "    X, y = [], []\n",
    "    for _, row in GGI_data.iterrows():\n",
    "        if row[\"gene_1\"] in embeddings and row[\"gene_2\"] in embeddings:\n",
    "            X.append(combine_embeddings(embeddings[row[\"gene_1\"]], embeddings[row[\"gene_2\"]]))\n",
    "            y.append(row[\"label\"])\n",
    "    return (np.array(X), np.array(y))\n",
    "\n",
    "combine_embeddings = lambda x, y: (x + y) / 2.0\n",
    "\n",
    "X_gpt_train, y_gpt_train = GGI_data_to_embeddings(GGI_train_data, gpt_embeddings, combine_embeddings)\n",
    "X_gpt_test, y_gpt_test = GGI_data_to_embeddings(GGI_test_data, gpt_embeddings, combine_embeddings)\n",
    "\n",
    "X_random_train, y_random_train = GGI_data_to_embeddings(GGI_train_data, random_embeddings, combine_embeddings)\n",
    "X_random_test, y_random_test = GGI_data_to_embeddings(GGI_test_data, random_embeddings, combine_embeddings)"
   ]
  },
  {
   "cell_type": "code",
   "execution_count": null,
   "id": "92e5a8ab-69b1-402e-8ee8-f16829c8a73a",
   "metadata": {},
   "outputs": [],
   "source": [
    "g2v_embeddings_df = pd.read_csv(util.data_dir / \"gene2vec-pre_trained_emb/gene2vec_dim_200_iter_9.txt\", header=None, sep=\"\\t\")\n",
    "print(gene2vec_embeddings_df)\n",
    "\n",
    "g2v_embeddings = {}\n",
    "for _, row in gene2vec_embeddings_df.iterrows():\n",
    "    embedding = list(map(float, row[1].split()))\n",
    "    g2v_embeddings[row[0]] = np.array(embedding)\n",
    "\n",
    "X_g2v_train, y_g2v_train = GGI_data_to_embeddings(GGI_train_data, g2v_embeddings, combine_embeddings)\n",
    "X_g2v_test, y_g2v_test = GGI_data_to_embeddings(GGI_test_data, g2v_embeddings, combine_embeddings)\n",
    "print(\"Train dims: \", X_g2v_train.shape)"
   ]
  },
  {
   "cell_type": "code",
   "execution_count": null,
   "id": "c3ff83d4-4cc8-4376-97f7-d6e461e03f6c",
   "metadata": {},
   "outputs": [],
   "source": [
    "def logistic_regression_eval(X_train, y_train, X_test):\n",
    "    lr = LogisticRegression()\n",
    "    lr.fit(X_train, y_train)\n",
    "    lr_pred = lr.predict_proba(X_test)\n",
    "    return (lr, lr_pred)\n",
    "\n",
    "lr_gpt, lr_gpt_pred = logistic_regression_eval(X_gpt_train, y_gpt_train, X_gpt_test)\n",
    "lr_random, lr_random_pred = logistic_regression_eval(X_random_train, y_random_train, X_random_test)\n",
    "lr_g2v, lr_g2v_pred = logistic_regression_eval(X_g2v_train, y_g2v_train, X_g2v_test)"
   ]
  },
  {
   "cell_type": "code",
   "execution_count": null,
   "id": "a858d7fd-2528-49bd-8bef-221fe1707fc7",
   "metadata": {},
   "outputs": [],
   "source": [
    "fpr_gpt_lr, tpr_gpt_lr, _ = roc_curve(y_gpt_test, lr_gpt_pred[:, 1])\n",
    "fpr_random_lr, tpr_random_lr, _ = roc_curve(y_random_test, lr_random_pred[:, 1])\n",
    "fpr_g2v_lr, tpr_g2v_lr, _ = roc_curve(y_g2v_test, lr_g2v_pred[:, 1])"
   ]
  },
  {
   "cell_type": "code",
   "execution_count": null,
   "id": "16a426e6-6530-41fd-a09f-dd9d5daed62a",
   "metadata": {},
   "outputs": [],
   "source": [
    "plt.figure()\n",
    "plt.figure(figsize=(6,5))\n",
    "\n",
    "plt.plot(fpr_gpt_lr, tpr_gpt_lr, color='blue', lw=2, \n",
    "         label='GenePT (AUC = %0.2f)' % (roc_auc_score(y_gpt_test, lr_gpt_pred[:,1])))\n",
    "plt.plot(fpr_random_lr, tpr_random_lr, color='red', lw=2, \n",
    "         label='Random Embed (AUC = %0.2f)' % (roc_auc_score(y_random_test, lr_random_pred[:,1])))\n",
    "plt.plot(fpr_g2v_lr, tpr_g2v_lr, color='cyan', lw=2, \n",
    "         label='Gene2vec (AUC = %0.2f)' % (roc_auc_score(y_g2v_test, lr_g2v_pred[:,1])))\n",
    "\n",
    "plt.xlim([0.0, 1.0])\n",
    "plt.ylim([0.0, 1.05])\n",
    "plt.xlabel('False Positive Rate')\n",
    "plt.ylabel('True Positive Rate')\n",
    "plt.title('ROC for gene-gene interaction prediction with a logistic regression classifier')\n",
    "plt.legend(loc='upper left',bbox_to_anchor=(-0.3, -0.15),fontsize=11,ncol=3)"
   ]
  },
  {
   "cell_type": "code",
   "execution_count": null,
   "id": "cba37320-d373-4eaa-9731-65a14dbabc73",
   "metadata": {},
   "outputs": [],
   "source": [
    "def random_forest_eval(X_train, y_train, X_test):\n",
    "    rf = RandomForestClassifier()\n",
    "    rf.fit(X_train, y_train)\n",
    "    rf_pred = rf.predict_proba(X_test)\n",
    "    return (rf, rf_pred)\n",
    "\n",
    "rf_gpt, rf_gpt_pred = random_forest_eval(X_gpt_train, y_gpt_train, X_gpt_test)\n",
    "rf_random, rf_random_pred = random_forest_eval(X_random_train, y_random_train, X_random_test)\n",
    "rf_g2v, rf_g2v_pred = random_forest_eval(X_g2v_train, y_g2v_train, X_g2v_test)"
   ]
  },
  {
   "cell_type": "code",
   "execution_count": null,
   "id": "81a04dd8-8e1c-4434-9b56-bc5a8ee4ce9a",
   "metadata": {},
   "outputs": [],
   "source": [
    "fpr_gpt_rf, tpr_gpt_rf, _ = roc_curve(y_gpt_test, rf_gpt_pred[:, 1])\n",
    "fpr_random_rf, tpr_random_rf, _ = roc_curve(y_random_test, rf_random_pred[:, 1])\n",
    "fpr_g2v_rf, tpr_g2v_rf, _ = roc_curve(y_g2v_test, rf_g2v_pred[:, 1])"
   ]
  },
  {
   "cell_type": "code",
   "execution_count": null,
   "id": "e5aa6a46-78a4-4d3b-bc2c-14d48b42a29a",
   "metadata": {},
   "outputs": [],
   "source": [
    "plt.figure()\n",
    "plt.figure(figsize=(6,5))\n",
    "\n",
    "plt.plot(fpr_gpt_rf, tpr_gpt_rf, color='blue', lw=2, \n",
    "         label='GenePT (AUC = %0.2f)' % (roc_auc_score(y_gpt_test, rf_gpt_pred[:,1])))\n",
    "plt.plot(fpr_random_rf, tpr_random_rf, color='red', lw=2, \n",
    "         label='Random Embed (AUC = %0.2f)' % (roc_auc_score(y_random_test, rf_random_pred[:,1])))\n",
    "plt.plot(fpr_g2v_rf, tpr_g2v_rf, color='cyan', lw=2, \n",
    "         label='Gene2vec (AUC = %0.2f)' % (roc_auc_score(y_g2v_test, rf_g2v_pred[:,1])))\n",
    "\n",
    "plt.xlim([0.0, 1.0])\n",
    "plt.ylim([0.0, 1.05])\n",
    "plt.xlabel('False Positive Rate')\n",
    "plt.ylabel('True Positive Rate')\n",
    "plt.title('ROC for gene-gene interaction prediction with a random forest classifier')\n",
    "plt.legend(loc='upper left',bbox_to_anchor=(-0.3, -0.15),fontsize=11,ncol=3)"
   ]
  }
 ],
 "metadata": {
  "kernelspec": {
   "display_name": "Python 3 (ipykernel)",
   "language": "python",
   "name": "python3"
  },
  "language_info": {
   "codemirror_mode": {
    "name": "ipython",
    "version": 3
   },
   "file_extension": ".py",
   "mimetype": "text/x-python",
   "name": "python",
   "nbconvert_exporter": "python",
   "pygments_lexer": "ipython3",
   "version": "3.13.1"
  }
 },
 "nbformat": 4,
 "nbformat_minor": 5
}
