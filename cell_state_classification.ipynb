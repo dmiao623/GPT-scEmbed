{
 "cells": [
  {
   "cell_type": "code",
   "execution_count": 37,
   "id": "a3dcf026-f935-4772-b50d-db091dbe5f7a",
   "metadata": {},
   "outputs": [],
   "source": [
    "import matplotlib.pyplot as plt\n",
    "import numpy as np\n",
    "import pandas as pd\n",
    "import pickle\n",
    "import random\n",
    "import scanpy as sc\n",
    "import seaborn as sns\n",
    "import sklearn\n",
    "import umap.umap_ as umap\n",
    "\n",
    "from pathlib import Path\n",
    "from sklearn.cluster import MiniBatchKMeans\n",
    "from sklearn.linear_model import LogisticRegression\n",
    "from sklearn.model_selection import train_test_split\n",
    "\n",
    "np.random.seed(1)\n",
    "random.seed(1)"
   ]
  },
  {
   "cell_type": "code",
   "execution_count": 28,
   "id": "25603a49-48f5-44c9-8946-0d99f8b57f2f",
   "metadata": {},
   "outputs": [
    {
     "name": "stdout",
     "output_type": "stream",
     "text": [
      "(N_genes, N_dims) = 93800, 1536\n"
     ]
    }
   ],
   "source": [
    "import util\n",
    "import importlib\n",
    "importlib.reload(util)\n",
    "\n",
    "N_genes, N_dims, gpt_embeddings = util.retrieve_gpt_gene_embeddings()\n",
    "print(f\"(N_genes, N_dims) = {N_genes}, {N_dims}\") "
   ]
  },
  {
   "cell_type": "code",
   "execution_count": 29,
   "id": "ee59d96f-b213-48ce-9bca-668ce5b86dd5",
   "metadata": {},
   "outputs": [
    {
     "name": "stdout",
     "output_type": "stream",
     "text": [
      "(N_genes, N_cells) = 23331, 9625\n"
     ]
    },
    {
     "name": "stderr",
     "output_type": "stream",
     "text": [
      "/Users/dustinm/projects/GPT-scEmbed/venv/lib/python3.13/site-packages/anndata/_core/anndata.py:1756: UserWarning: Observation names are not unique. To make them unique, call `.obs_names_make_unique`.\n",
      "  utils.warn_names_duplicates(\"obs\")\n"
     ]
    }
   ],
   "source": [
    "sampled_aorta_data = sc.read_h5ad(util.data_dir / \"sample_aorta_data_updated.h5ad\")\n",
    "N_cells = sampled_aorta_data.n_obs\n",
    "N_genes = sampled_aorta_data.n_vars\n",
    "print(f\"(N_genes, N_cells) = {N_genes}, {N_cells}\")"
   ]
  },
  {
   "cell_type": "code",
   "execution_count": 30,
   "id": "85968d6e-a31a-4cf3-976a-10d3c2309217",
   "metadata": {},
   "outputs": [
    {
     "name": "stdout",
     "output_type": "stream",
     "text": [
      "WARNING: adata.X seems to be already log-transformed.\n"
     ]
    },
    {
     "data": {
      "text/plain": [
       "(9625, 1536)"
      ]
     },
     "execution_count": 30,
     "metadata": {},
     "output_type": "execute_result"
    }
   ],
   "source": [
    "sampled_aorta_data_gpt_embeddings = util.generate_w_gpt_embeddings(N_dims, sampled_aorta_data, gpt_embeddings)\n",
    "sampled_aorta_data_gpt_embeddings.shape"
   ]
  },
  {
   "cell_type": "code",
   "execution_count": 34,
   "id": "50a9b575-a05b-4803-b209-de3e89dd7be3",
   "metadata": {},
   "outputs": [
    {
     "name": "stdout",
     "output_type": "stream",
     "text": [
      "Training set size (X_train): 7700\n",
      "Test set size (X_test): 1925\n"
     ]
    }
   ],
   "source": [
    "X_train, X_test, y_train, y_test = train_test_split(sampled_aorta_data_gpt_embeddings, \n",
    "                                                    sampled_aorta_data.obs.phenotype,\n",
    "                                                    test_size=0.20, random_state=2023)\n",
    "\n",
    "# Verify the split\n",
    "print(f\"Training set size (X_train): {len(X_train)}\")\n",
    "print(f\"Test set size (X_test): {len(X_test)}\")"
   ]
  },
  {
   "cell_type": "code",
   "execution_count": 35,
   "id": "92c8babd-b026-4f5b-8640-98cc0bdad9c0",
   "metadata": {},
   "outputs": [
    {
     "name": "stdout",
     "output_type": "stream",
     "text": [
      "0.5548051948051949\n",
      "(0.43725785723992, 0.5548051948051949, 0.48580424271091543, None)\n"
     ]
    },
    {
     "name": "stderr",
     "output_type": "stream",
     "text": [
      "/Users/dustinm/projects/GPT-scEmbed/venv/lib/python3.13/site-packages/sklearn/metrics/_classification.py:1565: UndefinedMetricWarning: Precision is ill-defined and being set to 0.0 in labels with no predicted samples. Use `zero_division` parameter to control this behavior.\n",
      "  _warn_prf(average, modifier, f\"{metric.capitalize()} is\", len(result))\n"
     ]
    }
   ],
   "source": [
    "lr = LogisticRegression(max_iter=100)\n",
    "lr.fit(X_train, y_train)\n",
    "y_pred_lr = lr.predict(X_test)\n",
    "print(np.mean(y_test== y_pred_lr))\n",
    "print(sklearn.metrics.precision_recall_fscore_support(y_test, y_pred_lr, average='weighted'))"
   ]
  },
  {
   "cell_type": "code",
   "execution_count": 40,
   "id": "68dff969-3748-446e-8b93-06f1b39f95ac",
   "metadata": {},
   "outputs": [
    {
     "name": "stdout",
     "output_type": "stream",
     "text": [
      "aRI 0.17650274883496175\n",
      "aMI 0.23870629577826807\n"
     ]
    }
   ],
   "source": [
    "kmeans = MiniBatchKMeans(n_clusters=11, random_state=2023, batch_size=20)\n",
    "kmeans.fit(sklearn.decomposition.PCA(n_components=50).fit_transform(X=sampled_aorta_data_gpt_embeddings))\n",
    "annotation_label = sampled_aorta_data.obs.patient\n",
    "\n",
    "labels = kmeans.labels_\n",
    "print('aRI', sklearn.metrics.adjusted_rand_score(labels, annotation_label))\n",
    "print('aMI', sklearn.metrics.adjusted_mutual_info_score(labels, annotation_label))"
   ]
  },
  {
   "cell_type": "code",
   "execution_count": 43,
   "id": "5bbd81b4-357c-44c7-9ea0-1035c4365a38",
   "metadata": {},
   "outputs": [
    {
     "name": "stdout",
     "output_type": "stream",
     "text": [
      "aRI 0.47623302555857844\n",
      "aMI 0.5504476114142288\n"
     ]
    },
    {
     "name": "stderr",
     "output_type": "stream",
     "text": [
      "/var/folders/t2/jkhbjclj1gn16k8kt3rkfxxh0000gn/T/ipykernel_56325/3578225893.py:3: FutureWarning: Series.__getitem__ treating keys as positions is deprecated. In a future version, integer keys will always be treated as labels (consistent with DataFrame behavior). To access a value by position, use `ser.iloc[pos]`\n",
      "  annotation_label = sampled_aorta_data.obs.celltype[np.where(sampled_aorta_data.obs.celltype!='Unknown')[0]]\n"
     ]
    }
   ],
   "source": [
    "kmeans = sklearn.cluster.MiniBatchKMeans(n_clusters=11, random_state=2023, batch_size=20)\n",
    "kmeans.fit(sampled_aorta_data_gpt_embeddings[np.where(sampled_aorta_data.obs.celltype!='Unknown')[0]])\n",
    "annotation_label = sampled_aorta_data.obs.celltype[np.where(sampled_aorta_data.obs.celltype!='Unknown')[0]]\n",
    "\n",
    "labels = kmeans.labels_\n",
    "print('aRI', sklearn.metrics.adjusted_rand_score(labels, annotation_label))\n",
    "print('aMI', sklearn.metrics.adjusted_mutual_info_score(labels, annotation_label))"
   ]
  },
  {
   "cell_type": "code",
   "execution_count": null,
   "id": "638e90ee-2414-4e79-acf2-8d32766a03da",
   "metadata": {},
   "outputs": [],
   "source": []
  }
 ],
 "metadata": {
  "kernelspec": {
   "display_name": "Python 3 (ipykernel)",
   "language": "python",
   "name": "python3"
  },
  "language_info": {
   "codemirror_mode": {
    "name": "ipython",
    "version": 3
   },
   "file_extension": ".py",
   "mimetype": "text/x-python",
   "name": "python",
   "nbconvert_exporter": "python",
   "pygments_lexer": "ipython3",
   "version": "3.13.1"
  }
 },
 "nbformat": 4,
 "nbformat_minor": 5
}
