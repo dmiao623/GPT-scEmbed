{
 "cells": [
  {
   "cell_type": "code",
   "execution_count": 3,
   "id": "ad127958-7b20-42f3-9b6a-5a50209505a8",
   "metadata": {},
   "outputs": [],
   "source": [
    "import importlib\n",
    "import matplotlib.pyplot as plt\n",
    "import numpy as np\n",
    "import pandas as pd\n",
    "import random\n",
    "\n",
    "from pathlib import Path\n",
    "\n",
    "np.random.seed(1)\n",
    "random.seed(1)"
   ]
  },
  {
   "cell_type": "code",
   "execution_count": 10,
   "id": "6da67f15-b04f-4c13-90e9-cd988bcc90c4",
   "metadata": {},
   "outputs": [],
   "source": [
    "import util\n",
    "import importlib\n",
    "importlib.reload(util)\n",
    "\n",
    "N_genes, N_dims, gpt_embeddings = util.retrieve_gpt_gene_embeddings()\n",
    "random_embeddings = util.generate_random_embeddings(N_genes, N_dims, gpt_embeddings.keys())"
   ]
  },
  {
   "cell_type": "markdown",
   "id": "47a6f849-0d72-447a-b5b4-c8cb9167b7fe",
   "metadata": {},
   "source": [
    "### Long vs. Short Range TFs\n",
    "\n",
    "[Chen et al.](https://www.nature.com/articles/s41467-020-16106-x)"
   ]
  },
  {
   "cell_type": "code",
   "execution_count": 11,
   "id": "4acde8a0-a972-41b6-98f6-a1f4bfe26caa",
   "metadata": {},
   "outputs": [],
   "source": [
    "long_short_range_tf = pd.read_csv(util.data_dir / \"41467_2020_16106_MOESM4_ESM.csv\")\n",
    "long_range_tf_genes = list(long_short_range_tf[long_short_range_tf[\"assignment\"]==\"long-range TF\"][\"Unnamed: 0\"])\n",
    "short_range_tf_genes = list(long_short_range_tf[long_short_range_tf[\"assignment\"]==\"short-range TF\"][\"Unnamed: 0\"])"
   ]
  },
  {
   "cell_type": "code",
   "execution_count": 12,
   "id": "85b6e051-5352-478c-b6e6-e8a4eed45454",
   "metadata": {},
   "outputs": [],
   "source": [
    "X_gpt_long_range_tf = np.array([gpt_embeddings[x] for x in long_range_tf_genes if x in gpt_embeddings])\n",
    "X_gpt_short_range_tf = np.array([gpt_embeddings[x] for x in short_range_tf_genes if x in gpt_embeddings])\n",
    "\n",
    "X_gpt = np.concatenate((X_gpt_long_range_tf,X_gpt_short_range_tf))\n",
    "y_gpt = np.concatenate((np.repeat(1,len(X_gpt_long_range_tf)),np.repeat(0,len(X_gpt_short_range_tf))))"
   ]
  },
  {
   "cell_type": "code",
   "execution_count": 13,
   "id": "de557194-34d6-407d-ae29-1c046e7508e3",
   "metadata": {},
   "outputs": [],
   "source": [
    "x_random_long_range_tf = np.array([random_embeddings[x] for x in long_range_tf_genes if x in random_embeddings])\n",
    "x_random_short_range_tf = np.array([random_embeddings[x] for x in short_range_tf_genes if x in random_embeddings])\n",
    "\n",
    "X_random = np.concatenate((x_random_long_range_tf,x_random_short_range_tf))\n",
    "y_random = np.concatenate((np.repeat(1,len(x_random_long_range_tf)),np.repeat(0,len(x_random_short_range_tf))))"
   ]
  },
  {
   "cell_type": "code",
   "execution_count": 14,
   "id": "c351c5b8-1b6d-4638-90e7-b493dd879ec4",
   "metadata": {},
   "outputs": [
    {
     "name": "stdout",
     "output_type": "stream",
     "text": [
      "GPT Embeddings:\n",
      "Logistic Regression ROC AUC: 0.820 +/- 0.189\n",
      "Random Forest ROC AUC: 0.740 +/- 0.297\n",
      "\n",
      "Random Embeddings:\n",
      "Logistic Regression ROC AUC: 0.417 +/- 0.275\n",
      "Random Forest ROC AUC: 0.486 +/- 0.332\n"
     ]
    }
   ],
   "source": [
    "print(\"GPT Embeddings:\")\n",
    "util.logistic_random_forest_eval(X_gpt, y_gpt)\n",
    "print(\"\\nRandom Embeddings:\")\n",
    "util.logistic_random_forest_eval(X_random, y_random)"
   ]
  }
 ],
 "metadata": {
  "kernelspec": {
   "display_name": "Python 3 (ipykernel)",
   "language": "python",
   "name": "python3"
  },
  "language_info": {
   "codemirror_mode": {
    "name": "ipython",
    "version": 3
   },
   "file_extension": ".py",
   "mimetype": "text/x-python",
   "name": "python",
   "nbconvert_exporter": "python",
   "pygments_lexer": "ipython3",
   "version": "3.13.1"
  }
 },
 "nbformat": 4,
 "nbformat_minor": 5
}
